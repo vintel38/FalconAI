{
 "cells": [
  {
   "cell_type": "markdown",
   "id": "extra-balance",
   "metadata": {},
   "source": [
    "# FalconAI - Falcon 9 Telemetry Download "
   ]
  },
  {
   "cell_type": "code",
   "execution_count": 4,
   "id": "three-guess",
   "metadata": {},
   "outputs": [
    {
     "name": "stderr",
     "output_type": "stream",
     "text": [
      "'jq' nâ€™est pas reconnu en tant que commande interne\n",
      "ou externe, un programme exÃ©cutable ou un fichier de commandes.\n"
     ]
    }
   ],
   "source": [
    "!curl -s http://api.launchdashboard.space/v2/launches/latest/spacex | jq"
   ]
  },
  {
   "cell_type": "code",
   "execution_count": 5,
   "id": "smaller-yesterday",
   "metadata": {},
   "outputs": [],
   "source": [
    "import requests"
   ]
  },
  {
   "cell_type": "code",
   "execution_count": 12,
   "id": "growing-pharmaceutical",
   "metadata": {},
   "outputs": [],
   "source": [
    "result = requests.get(\"http://api.launchdashboard.space/v2/launches/latest/spacex\")"
   ]
  },
  {
   "cell_type": "code",
   "execution_count": 14,
   "id": "smoking-fellowship",
   "metadata": {},
   "outputs": [
    {
     "name": "stdout",
     "output_type": "stream",
     "text": [
      "{'Date': 'Sat, 13 Nov 2021 19:40:53 GMT', 'Server': 'Apache/2.4.41 (Ubuntu)', 'X-Powered-By': 'Express', 'Access-Control-Allow-Origin': '*', 'Access-Control-Allow-Headers': 'Origin, X-Requested-With, Content-Type, Accept', 'Content-Type': 'application/json; charset=utf-8', 'Content-Length': '3368595', 'ETag': 'W/\"336693-Es1xkBAi5wjUZNVtVEv9lrZ+do8\"', 'Keep-Alive': 'timeout=5, max=100', 'Connection': 'Keep-Alive'}\n"
     ]
    }
   ],
   "source": [
    "print(result.headers)"
   ]
  },
  {
   "cell_type": "code",
   "execution_count": null,
   "id": "affiliated-delight",
   "metadata": {},
   "outputs": [],
   "source": []
  }
 ],
 "metadata": {
  "kernelspec": {
   "display_name": "Python 3",
   "language": "python",
   "name": "python3"
  },
  "language_info": {
   "codemirror_mode": {
    "name": "ipython",
    "version": 3
   },
   "file_extension": ".py",
   "mimetype": "text/x-python",
   "name": "python",
   "nbconvert_exporter": "python",
   "pygments_lexer": "ipython3",
   "version": "3.6.13"
  }
 },
 "nbformat": 4,
 "nbformat_minor": 5
}
