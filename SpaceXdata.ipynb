{
 "cells": [
  {
   "cell_type": "markdown",
   "id": "extra-balance",
   "metadata": {},
   "source": [
    "# FalconAI - Falcon 9 Telemetry Download "
   ]
  },
  {
   "cell_type": "raw",
   "id": "9e194405-a724-4c26-9c3e-e59ff5f2cff0",
   "metadata": {},
   "source": [
    "!curl -s http://api.launchdashboard.space/v2/launches/latest/spacex | jq\n",
    "# does not work, notebook is not capable of interpreting javascript"
   ]
  },
  {
   "cell_type": "code",
   "execution_count": 1,
   "id": "smaller-yesterday",
   "metadata": {},
   "outputs": [],
   "source": [
    "import requests"
   ]
  },
  {
   "cell_type": "markdown",
   "id": "ac149982-967d-4c71-a852-c8b0f3f25ce4",
   "metadata": {},
   "source": [
    "### Site to interpret the code in Python syntax\n",
    "https://documenter.getpostman.com/view/6536395/S11Htyq1"
   ]
  },
  {
   "cell_type": "code",
   "execution_count": 3,
   "id": "growing-pharmaceutical",
   "metadata": {},
   "outputs": [
    {
     "name": "stdout",
     "output_type": "stream",
     "text": [
      "{\"project_name\":\"Launch Dashboard API\",\"version\":\"1.0.0\",\"project_link\":\"https://github.com/shahar603/Launch-Dashboard-API\",\"docs\":\"https://github.com/shahar603/Launch-Dashboard-API/wiki\",\"organization\":\"r/SpaceX\",\"organization_link\":\"https://github.com/r-spacex\",\"description\":\"Open Source REST API for SpaceX webcast telemetry created by u/Shahar603\"}\n",
      "{'Date': 'Sun, 14 Nov 2021 12:17:44 GMT', 'Server': 'Apache/2.4.41 (Ubuntu)', 'X-Powered-By': 'Express', 'Access-Control-Allow-Origin': '*', 'Access-Control-Allow-Headers': 'Origin, X-Requested-With, Content-Type, Accept', 'Content-Type': 'application/json; charset=utf-8', 'Content-Length': '353', 'ETag': 'W/\"161-1WQYIYeloHGtYcFBrcGGwobC0wk\"', 'Keep-Alive': 'timeout=5, max=100', 'Connection': 'Keep-Alive'}\n"
     ]
    }
   ],
   "source": [
    "import requests\n",
    "\n",
    "url = \"http://api.launchdashboard.space/v1\"\n",
    "\n",
    "payload={}\n",
    "headers = {}\n",
    "\n",
    "response = requests.request(\"GET\", url, headers=headers, data=payload)\n",
    "\n",
    "print(response.text)\n",
    "print(response.headers)"
   ]
  },
  {
   "cell_type": "markdown",
   "id": "2a847075-3224-4749-9486-9a43c1037ce2",
   "metadata": {},
   "source": [
    "### Launch Info from the API"
   ]
  },
  {
   "cell_type": "code",
   "execution_count": 47,
   "id": "9fd6c678-1432-426f-a61e-5cbe3ead7bac",
   "metadata": {},
   "outputs": [
    {
     "name": "stdout",
     "output_type": "stream",
     "text": [
      "[{'key': 'maxq', 'time': 64}, {'key': 'throttle_down_start', 'time': 51}, {'key': 'throttle_down_end', 'time': 90}, {'key': 'meco', 'time': 147}, {'key': 'boostback_start', 'time': 166}, {'key': 'boostback_end', 'time': 212}, {'key': 'apogee', 'time': 250}, {'key': 'entry_start', 'time': 370}, {'key': 'entry_end', 'time': 384}, {'key': 'landing_start', 'time': 433}, {'key': 'landing_end', 'time': 466}, {'key': 'ses1', 'time': None}, {'key': 'seco1', 'time': None}, {'key': 'ses2', 'time': None}, {'key': 'seco2', 'time': None}]\n"
     ]
    }
   ],
   "source": [
    "import requests\n",
    "import json\n",
    "\n",
    "url = \"http://api.launchdashboard.space/v2/launches/spacex?flight_number=45\"\n",
    "\n",
    "payload={}\n",
    "headers = {}\n",
    "\n",
    "response = requests.request(\"GET\", url, headers=headers, data=payload)\n",
    "\n",
    "data = response.text\n",
    "data = json.loads(data)\n",
    "print(data['events'])\n",
    "# print(json.dumps(data, indent=4, sort_keys=True))\n",
    "# data['mission_id']\n",
    "#JSONEncoder().encode(data)"
   ]
  },
  {
   "cell_type": "code",
   "execution_count": null,
   "id": "10a371b4-d9ea-43be-ba48-689636b70309",
   "metadata": {},
   "outputs": [],
   "source": [
    "import requests\n",
    "\n",
    "url = \"https://api.launchdashboard.space/v1/launches/spacex?mission_id=crs-12\"\n",
    "\n",
    "payload={}\n",
    "headers = {}\n",
    "\n",
    "response = requests.request(\"GET\", url, headers=headers, data=payload)\n",
    "\n",
    "print(response.text)"
   ]
  },
  {
   "cell_type": "markdown",
   "id": "6e263481-2ccb-4774-9aa8-83e7e59c4fc4",
   "metadata": {},
   "source": [
    "## Telemetry Data from shahar603 repo "
   ]
  },
  {
   "cell_type": "code",
   "execution_count": 44,
   "id": "f7f702ed-02f9-476e-a951-1f75a310b9b3",
   "metadata": {},
   "outputs": [],
   "source": [
    "import json\n",
    "\n",
    "f = open('../Telemetry-Data/BulgariaSat-1/JSON/BulgariaSat-1 raw.json',)\n",
    "\n",
    "data = json.load(f)"
   ]
  },
  {
   "cell_type": "code",
   "execution_count": 45,
   "id": "175e679a-7549-4fd0-8b82-25dbb43c6921",
   "metadata": {},
   "outputs": [
    {
     "name": "stdout",
     "output_type": "stream",
     "text": [
      "time\n",
      "velocity\n",
      "altitude\n"
     ]
    }
   ],
   "source": [
    "for i in data:\n",
    "    print(i)"
   ]
  },
  {
   "cell_type": "code",
   "execution_count": 46,
   "id": "ba31b0b8-a957-4873-8945-dad689e80f60",
   "metadata": {},
   "outputs": [
    {
     "data": {
      "image/png": "[encoded data removed]",
      "text/plain": [
       "<Figure size 432x288 with 1 Axes>"
      ]
     },
     "metadata": {
      "needs_background": "light"
     },
     "output_type": "display_data"
    }
   ],
   "source": [
    "import matplotlib.pyplot as plt\n",
    "\n",
    "plt.scatter(data['time'], data['altitude'], c = 'red')\n",
    "plt.show()"
   ]
  },
  {
   "cell_type": "markdown",
   "id": "48f9c798-0055-4651-9173-f50d3766f1bc",
   "metadata": {},
   "source": [
    "- loss of telemetry between ground station and stage 1 around 430s and final landing zone \n",
    "- others launch data to be investigated"
   ]
  },
  {
   "cell_type": "code",
   "execution_count": null,
   "id": "887e5695-bedb-4f40-a63d-912e19aac6ea",
   "metadata": {},
   "outputs": [],
   "source": []
  }
 ],
 "metadata": {
  "kernelspec": {
   "display_name": "Python 3 (ipykernel)",
   "language": "python",
   "name": "python3"
  },
  "language_info": {
   "codemirror_mode": {
    "name": "ipython",
    "version": 3
   },
   "file_extension": ".py",
   "mimetype": "text/x-python",
   "name": "python",
   "nbconvert_exporter": "python",
   "pygments_lexer": "ipython3",
   "version": "3.7.11"
  }
 },
 "nbformat": 4,
 "nbformat_minor": 5
}
