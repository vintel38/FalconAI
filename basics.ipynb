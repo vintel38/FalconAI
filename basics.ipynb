{
 "cells": [
  {
   "cell_type": "markdown",
   "id": "6195e855-ed40-40a0-80fd-95e471c2117d",
   "metadata": {},
   "source": [
    "# FalconAI - Test 1 : Implementation du modèle dynamique brut"
   ]
  },
  {
   "cell_type": "code",
   "execution_count": 3,
   "id": "946a0fd1-f3b9-40e9-ab5f-7ec7b25efdde",
   "metadata": {},
   "outputs": [],
   "source": [
    "import numpy as np\n",
    "import os \n",
    "import tqdm"
   ]
  },
  {
   "cell_type": "code",
   "execution_count": 28,
   "id": "02d8bcc8-ad5a-4985-807b-7028d2e06807",
   "metadata": {},
   "outputs": [],
   "source": [
    "def Poussee(alpha, beta, thr, T):\n",
    "    \"\"\"Calcul de la poussée du moteur principal dans le repère de la fusée\n",
    "    alpha : rotation autour de x_f\n",
    "    beta : rotation autour de y_f\n",
    "    thr : throttle du moteur en %\n",
    "    T : poussée nominale de la fusée en N\n",
    "    Wiki matrice de rotation https://fr.wikipedia.org/wiki/Matrice_de_rotation\n",
    "    \n",
    "    \"\"\"\n",
    "    \n",
    "    F = thr/100*np.array((0,0,T))\n",
    "    alpha = np.radians(alpha)\n",
    "    beta = np.radians(beta)\n",
    "    #print(F)\n",
    "    \n",
    "    R_x = np.array(( (1, 0, 0),\n",
    "                    (0, np.cos(alpha), -np.sin(alpha)),\n",
    "                    (0, np.sin(alpha),  np.cos(alpha)) ))\n",
    "    \n",
    "    R_y = np.array(((np.cos(beta), 0, np.sin(beta)),\n",
    "                    (0, 1, 0),\n",
    "                    (-np.sin(beta), 0,  np.cos(beta)) ))\n",
    "    #print(R_x)\n",
    "    #print(R_y)\n",
    "    \n",
    "    F_f = np.dot(R_y,np.dot(R_x, F))\n",
    "    \n",
    "    return(F_f)\n",
    "    \n",
    "#Poussee(3, 2, 50, 25000)"
   ]
  },
  {
   "cell_type": "code",
   "execution_count": 31,
   "id": "ef4bd2a4-de6f-4007-b896-96756c9dfd79",
   "metadata": {},
   "outputs": [],
   "source": [
    "def RPFD(F_f, D_f, I, m):\n",
    "    \"\"\"\n",
    "    Calcul du Principe de Fondamental de la Dynamique \n",
    "    F_f : Poussée orientée du booster dans le repère de la fusée (en N)\n",
    "    D_f : Vecteur point de poussée - CDG dans le repère de la fusée (en N)\n",
    "    I : Inertie du booster autour de son CDG \n",
    "    m : masse du booster (en kg)\n",
    "    \"\"\"\n",
    "    \n",
    "    x_pp = F_f / m\n",
    "    \n",
    "    M_f_CDG = np.cross(D_f, F_f)\n",
    "    theta_pp = M_f_CDG / I\n",
    "    \n",
    "    return x_pp, theta_pp"
   ]
  },
  {
   "cell_type": "code",
   "execution_count": 49,
   "id": "98a72bd2-a087-4b6c-adcd-602ce32332ad",
   "metadata": {},
   "outputs": [],
   "source": [
    "def coord_local2global(vectors, state):\n",
    "    \"\"\"\n",
    "    Recalcul des vecteurs dans le référentiel terrestre\n",
    "    vectors : série de vecteurs dans le référentiel de la fusée\n",
    "    state : état de la fusée dans les coordonnées du référentiel terrestre\n",
    "    \"\"\"\n",
    "    assert vectors.shape[-1]==3, 'l algo attend une suite de vecteurs 3D'\n",
    "    assert len(state) == 6, 'l algo attend le vecteur état de la fusée dans le référentiel terrestre'\n",
    "    \n",
    "    alpha = np.radians(state[3])\n",
    "    beta = np.radians(state[4])\n",
    "    gamma = np.radians(state[5])\n",
    "    \n",
    "    R_x = np.array(( (1, 0, 0),\n",
    "                    (0, np.cos(alpha), -np.sin(alpha)),\n",
    "                    (0, np.sin(alpha),  np.cos(alpha)) ))\n",
    "    \n",
    "    R_y = np.array(((np.cos(beta), 0, np.sin(beta)),\n",
    "                    (0, 1, 0),\n",
    "                    (-np.sin(beta), 0,  np.cos(beta)) ))\n",
    "    \n",
    "    R_z = np.array(((np.cos(gamma), - np.sin(gamma), 0),\n",
    "                    (np.sin(gamma), np.cos(gamma), 0),\n",
    "                    (0, 0, 1) ))\n",
    "    \n",
    "    out=[]\n",
    "    for vect in vectors:\n",
    "        out.append(np.array(np.dot(R_z, np.dot(R_y, np.dot(R_x, vect)))))\n",
    "    return np.array(out)"
   ]
  },
  {
   "cell_type": "code",
   "execution_count": 4,
   "id": "0247bd69-bc04-44c9-a326-cc00cd7015ca",
   "metadata": {},
   "outputs": [
    {
     "data": {
      "text/plain": [
       "array([[2, 0, 0],\n",
       "       [0, 6, 0],\n",
       "       [0, 0, 3]])"
      ]
     },
     "execution_count": 4,
     "metadata": {},
     "output_type": "execute_result"
    }
   ],
   "source": [
    "np.diag((2,6,3))"
   ]
  },
  {
   "cell_type": "code",
   "execution_count": 7,
   "id": "22104592-78e8-48d9-97c3-657efbfb757e",
   "metadata": {},
   "outputs": [
    {
     "data": {
      "text/plain": [
       "0.5"
      ]
     },
     "execution_count": 7,
     "metadata": {},
     "output_type": "execute_result"
    }
   ],
   "source": [
    "np.radians(90)/np.pi"
   ]
  },
  {
   "cell_type": "code",
   "execution_count": 13,
   "id": "d3b8c005-d176-40ce-b77e-21bb01aec7d0",
   "metadata": {},
   "outputs": [
    {
     "data": {
      "text/plain": [
       "array([0, 0, 1])"
      ]
     },
     "execution_count": 13,
     "metadata": {},
     "output_type": "execute_result"
    }
   ],
   "source": [
    "np.array(((0),(0),(1)))"
   ]
  },
  {
   "cell_type": "code",
   "execution_count": 34,
   "id": "be9ddf73-323e-4bcf-9d27-6bd264144f2d",
   "metadata": {},
   "outputs": [],
   "source": [
    "theta = np.pi/2\n",
    "pelo =np.array(( \n",
    "                    (0, np.cos(theta), -np.sin(theta)),\n",
    "                    (0, np.sin(theta),  np.cos(theta)) ))"
   ]
  },
  {
   "cell_type": "code",
   "execution_count": 39,
   "id": "48b7e3bc-d84f-4061-a8cd-3a7b27e79164",
   "metadata": {},
   "outputs": [
    {
     "data": {
      "text/plain": [
       "array([[ 0.000000e+00,  6.123234e-17, -1.000000e+00],\n",
       "       [ 0.000000e+00,  1.000000e+00,  6.123234e-17]])"
      ]
     },
     "execution_count": 39,
     "metadata": {},
     "output_type": "execute_result"
    }
   ],
   "source": [
    "pelo"
   ]
  },
  {
   "cell_type": "code",
   "execution_count": 50,
   "id": "3b0ede60-367c-40f2-8184-10667698cc9d",
   "metadata": {},
   "outputs": [
    {
     "data": {
      "text/plain": [
       "array([[-0.11648284,  0.06979308, -0.99073744],\n",
       "       [-0.14684109,  0.98535505,  0.08667829]])"
      ]
     },
     "execution_count": 50,
     "metadata": {},
     "output_type": "execute_result"
    }
   ],
   "source": [
    "coord_local2global(pelo, np.array([25, 69, 89, 5, 6, 9]))"
   ]
  },
  {
   "cell_type": "code",
   "execution_count": 43,
   "id": "cc214dcc-9d73-4df8-a394-c484a897de4b",
   "metadata": {},
   "outputs": [
    {
     "data": {
      "text/plain": [
       "6"
      ]
     },
     "execution_count": 43,
     "metadata": {},
     "output_type": "execute_result"
    }
   ],
   "source": [
    "len(np.array([25, 69, 89, 5, 6, 9]))"
   ]
  },
  {
   "cell_type": "code",
   "execution_count": null,
   "id": "c582de4e-ad96-4312-977b-ce9ec64a06e2",
   "metadata": {},
   "outputs": [],
   "source": []
  }
 ],
 "metadata": {
  "kernelspec": {
   "display_name": "Python 3 (ipykernel)",
   "language": "python",
   "name": "python3"
  },
  "language_info": {
   "codemirror_mode": {
    "name": "ipython",
    "version": 3
   },
   "file_extension": ".py",
   "mimetype": "text/x-python",
   "name": "python",
   "nbconvert_exporter": "python",
   "pygments_lexer": "ipython3",
   "version": "3.7.11"
  }
 },
 "nbformat": 4,
 "nbformat_minor": 5
}
