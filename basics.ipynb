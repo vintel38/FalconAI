{
 "cells": [
  {
   "cell_type": "markdown",
   "id": "6195e855-ed40-40a0-80fd-95e471c2117d",
   "metadata": {},
   "source": [
    "# FalconAI - Test 1 : Implementation du modèle dynamique brut"
   ]
  },
  {
   "cell_type": "code",
   "execution_count": 43,
   "id": "946a0fd1-f3b9-40e9-ab5f-7ec7b25efdde",
   "metadata": {},
   "outputs": [],
   "source": [
    "import numpy as np\n",
    "import os \n",
    "import tqdm"
   ]
  },
  {
   "cell_type": "code",
   "execution_count": 113,
   "id": "02d8bcc8-ad5a-4985-807b-7028d2e06807",
   "metadata": {},
   "outputs": [],
   "source": [
    "def Poussee(alpha, beta, thr, T):\n",
    "    \"\"\"Calcul de la poussée du moteur principal dans le repère de la fusée\n",
    "    alpha : rotation autour de x_f\n",
    "    beta : rotation autour de y_f\n",
    "    thr : throttle du moteur en %\n",
    "    T : poussée nominale de la fusée en N\n",
    "    Wiki matrice de rotation https://fr.wikipedia.org/wiki/Matrice_de_rotation\n",
    "    \n",
    "    \"\"\"\n",
    "    \n",
    "    F = thr/100*np.array((0,0,T))\n",
    "    alpha = np.radians(alpha)\n",
    "    beta = np.radians(beta)\n",
    "    \n",
    "    R_x = np.array(( (1, 0, 0),\n",
    "                    (0, np.cos(alpha), -np.sin(alpha)),\n",
    "                    (0, np.sin(alpha),  np.cos(alpha)) ))\n",
    "    \n",
    "    R_y = np.array(((np.cos(beta), 0, np.sin(beta)),\n",
    "                    (0, 1, 0),\n",
    "                    (-np.sin(beta), 0,  np.cos(beta)) ))\n",
    "    \n",
    "    F_f = np.dot(R_y,np.dot(R_x, F))\n",
    "    \n",
    "    return(F_f)\n",
    "    \n",
    "#Poussee(3, 2, 50, 25000)"
   ]
  },
  {
   "cell_type": "code",
   "execution_count": 114,
   "id": "ef4bd2a4-de6f-4007-b896-96756c9dfd79",
   "metadata": {},
   "outputs": [],
   "source": [
    "def RPFD(F_f, D_f, I, m):\n",
    "    \"\"\"\n",
    "    Calcul du Principe de Fondamental de la Dynamique \n",
    "    F_f : Poussée orientée du booster dans le repère de la fusée (en N)\n",
    "    D_f : Vecteur point de poussée - CDG dans le repère de la fusée (en N)\n",
    "    I : Inertie du booster autour de son CDG \n",
    "    m : masse du booster (en kg)\n",
    "    \"\"\"\n",
    "    \n",
    "    x_pp = F_f / m\n",
    "    \n",
    "    M_f_CDG = np.cross(D_f, F_f)\n",
    "    theta_pp = M_f_CDG / I\n",
    "    #print('x_pp = {}'.format(x_pp))\n",
    "    #print('theta_pp = {}'.format(theta_pp))\n",
    "    #print(np.array([x_pp, theta_pp]))\n",
    "    return np.array([x_pp, theta_pp])"
   ]
  },
  {
   "cell_type": "code",
   "execution_count": 115,
   "id": "98a72bd2-a087-4b6c-adcd-602ce32332ad",
   "metadata": {},
   "outputs": [],
   "source": [
    "def coord_local2global(vectors, state):\n",
    "    \"\"\"\n",
    "    Recalcul des vecteurs dans le référentiel terrestre\n",
    "    vectors : série de vecteurs dans le référentiel de la fusée\n",
    "    state : état de la fusée dans les coordonnées du référentiel terrestre\n",
    "    \"\"\"\n",
    "    assert vectors.shape[-1]==3, 'l`algo attend une suite de vecteurs 3D'\n",
    "    # assert len(state) == 6, 'l algo attend le vecteur état de la fusée dans le référentiel terrestre'\n",
    "    \n",
    "    alpha, beta, gamma = state[0:3, -1] * np.pi / 180\n",
    "    \n",
    "    R_x = np.array(( (1, 0, 0),\n",
    "                    (0, np.cos(alpha), -np.sin(alpha)),\n",
    "                    (0, np.sin(alpha),  np.cos(alpha)) ))\n",
    "    \n",
    "    R_y = np.array(((np.cos(beta), 0, np.sin(beta)),\n",
    "                    (0, 1, 0),\n",
    "                    (-np.sin(beta), 0,  np.cos(beta)) ))\n",
    "    \n",
    "    R_z = np.array(((np.cos(gamma), - np.sin(gamma), 0),\n",
    "                    (np.sin(gamma), np.cos(gamma), 0),\n",
    "                    (0, 0, 1) ))\n",
    "    \n",
    "    out=[]\n",
    "    for vect in vectors:\n",
    "        out.append(np.array(np.dot(R_z, np.dot(R_y, np.dot(R_x, vect)))))\n",
    "    return np.array(out)"
   ]
  },
  {
   "cell_type": "code",
   "execution_count": 156,
   "id": "4fdb8616-ddba-4b37-992b-b424ce717dea",
   "metadata": {},
   "outputs": [],
   "source": [
    "def integration(X_s, dt, x_s):\n",
    "    \n",
    "    \"\"\"\n",
    "    Intégration temporelle de l'accélération direction et angulaire \n",
    "    X_s : vecteur d'état mémoire de la trajectoire (en unité SI : degrès et mêtres) \n",
    "        série de vecteurs colonnes position, vitesse, accélération de taille 3 \n",
    "    dt : temps d'intégration (s)\n",
    "    x_s : vecteur d'état de la fusée dans le référentiel global (acceleration, acceleration angulaire)\n",
    "    \"\"\"\n",
    "    \n",
    "    #print('X_-1 = {}'.format(X_s[:, -1]))\n",
    "    #print(X_s.shape)\n",
    "    #print('x_s = {}'.format(x_s))\n",
    "    #print(x_s.shape)\n",
    "    #print(x_s[0])\n",
    "    \n",
    "    x_p = x_s[0] * dt + X_s[3:6, -1] \n",
    "    x = x_p * dt + X_s[0:3, -1]\n",
    "    theta_p = x_s[1] * dt + X_s[12:15, -1]\n",
    "    theta = theta_p * dt + X_s[9:12, -1]\n",
    "    \n",
    "    #print('x_p = {}'.format(x_p))\n",
    "    #print('x = {}'.format(x))\n",
    "    #print('theta_p = {}'.format(theta_p))\n",
    "    #print('theta = {}'.format(theta))\n",
    "    \n",
    "    return np.c_[X_s, np.append(x, np.append(x_p, np.append(x_s[0], np.append(theta, np.append(theta_p, x_s[1])))))]"
   ]
  },
  {
   "cell_type": "code",
   "execution_count": 175,
   "id": "78738b2f-f999-444f-b815-3774333d9121",
   "metadata": {},
   "outputs": [],
   "source": [
    "## test 1 \n",
    "\n",
    "## Initialisation \n",
    "X = np.zeros((18, 1))\n",
    "dt = 0.1\n",
    "alpha = 0\n",
    "beta = 0\n",
    "\n",
    "# rocket characteristics\n",
    "T = 8e6\n",
    "thr=50\n",
    "L = 70\n",
    "r = 2.6\n",
    "m_tot = 595000\n",
    "I = np.array([ 1/12*m_tot*(3*r*r + L*L), 1/12*m_tot*(3*r*r + L*L), 1/2*m_tot*r*r])\n",
    "D_f = np.array([0, 0, 35])\n",
    "\n",
    "for i in range(100):\n",
    "    \n",
    "    F_f = Poussee(alpha, beta, thr, T)\n",
    "    X_pp = RPFD(F_f, D_f, I, m_tot)\n",
    "    X_pp = coord_local2global(X_pp, X)\n",
    "    X = integration(X, dt, X_pp)\n",
    "    \n",
    "    if i==50:\n",
    "        thr=0"
   ]
  },
  {
   "cell_type": "code",
   "execution_count": 176,
   "id": "8d2b13a5-c479-4583-b8d4-a03fe0cd0275",
   "metadata": {},
   "outputs": [
    {
     "data": {
      "text/plain": [
       "(18, 101)"
      ]
     },
     "execution_count": 176,
     "metadata": {},
     "output_type": "execute_result"
    }
   ],
   "source": [
    "X.shape"
   ]
  },
  {
   "cell_type": "code",
   "execution_count": 171,
   "id": "73c781a2-14d0-4857-9cf0-d26499d4ece0",
   "metadata": {},
   "outputs": [],
   "source": [
    "import matplotlib.pyplot as plt"
   ]
  },
  {
   "cell_type": "code",
   "execution_count": 177,
   "id": "2d0d0cd2-c182-441f-8ec3-bc137639a34b",
   "metadata": {},
   "outputs": [
    {
     "data": {
      "image/png": "[encoded data removed]",
      "text/plain": [
       "<Figure size 432x288 with 1 Axes>"
      ]
     },
     "metadata": {
      "needs_background": "light"
     },
     "output_type": "display_data"
    }
   ],
   "source": [
    "plt.plot(X[2, :])\n",
    "plt.show()"
   ]
  },
  {
   "cell_type": "code",
   "execution_count": 178,
   "id": "f65d112c-18fc-4280-95ce-f048e8aa0af1",
   "metadata": {},
   "outputs": [
    {
     "data": {
      "text/plain": [
       "[<mpl_toolkits.mplot3d.art3d.Line3D at 0x20491cfef10>]"
      ]
     },
     "execution_count": 178,
     "metadata": {},
     "output_type": "execute_result"
    },
    {
     "data": {
      "image/png": "[encoded data removed]",
      "text/plain": [
       "<Figure size 432x288 with 1 Axes>"
      ]
     },
     "metadata": {
      "needs_background": "light"
     },
     "output_type": "display_data"
    }
   ],
   "source": [
    "ax = plt.axes(projection='3d')\n",
    "ax.plot3D(X[0, :], X[1, :], X[2, :], 'gray')"
   ]
  },
  {
   "cell_type": "code",
   "execution_count": null,
   "id": "915d1522-44d7-4995-aeb4-e78b9a325d78",
   "metadata": {},
   "outputs": [],
   "source": []
  }
 ],
 "metadata": {
  "kernelspec": {
   "display_name": "Python 3 (ipykernel)",
   "language": "python",
   "name": "python3"
  },
  "language_info": {
   "codemirror_mode": {
    "name": "ipython",
    "version": 3
   },
   "file_extension": ".py",
   "mimetype": "text/x-python",
   "name": "python",
   "nbconvert_exporter": "python",
   "pygments_lexer": "ipython3",
   "version": "3.9.6"
  }
 },
 "nbformat": 4,
 "nbformat_minor": 5
}
